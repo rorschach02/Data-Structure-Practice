{
  "nbformat": 4,
  "nbformat_minor": 0,
  "metadata": {
    "colab": {
      "name": "Linked List.ipynb",
      "provenance": [],
      "collapsed_sections": [],
      "authorship_tag": "ABX9TyOqd3mkUL1lGgPl2rP2zKtM",
      "include_colab_link": true
    },
    "kernelspec": {
      "name": "python3",
      "display_name": "Python 3"
    },
    "language_info": {
      "name": "python"
    }
  },
  "cells": [
    {
      "cell_type": "markdown",
      "metadata": {
        "id": "view-in-github",
        "colab_type": "text"
      },
      "source": [
        "<a href=\"https://colab.research.google.com/github/rorschach02/Data-Structure-Practice/blob/main/Linked_List.ipynb\" target=\"_parent\"><img src=\"https://colab.research.google.com/assets/colab-badge.svg\" alt=\"Open In Colab\"/></a>"
      ]
    },
    {
      "cell_type": "markdown",
      "source": [
        "**Creation of singly linked list node**"
      ],
      "metadata": {
        "id": "DJdfr_ACIIM6"
      }
    },
    {
      "cell_type": "code",
      "execution_count": null,
      "metadata": {
        "colab": {
          "base_uri": "https://localhost:8080/"
        },
        "id": "PEtrZ37hFzR1",
        "outputId": "4a651fb9-ef26-4412-eb9b-626bb36c7875"
      },
      "outputs": [
        {
          "output_type": "stream",
          "name": "stdout",
          "text": [
            "10\n"
          ]
        }
      ],
      "source": [
        "class Node:\n",
        "  #constructor \n",
        "  def __init__(self, info,link = None): # info we store information and in link we store the address to the next link or NULL for the last node \n",
        "    self.info = info \n",
        "    self.link = link \n",
        "\n",
        "#creating a single node:\n",
        "first = Node(10)\n",
        "print(first.info)"
      ]
    },
    {
      "cell_type": "markdown",
      "source": [
        "**Insertion and deletion in singly linked list:**"
      ],
      "metadata": {
        "id": "XQVoj3cKJSiY"
      }
    },
    {
      "cell_type": "code",
      "source": [
        "class LinkedList:\n",
        "  #constructor \n",
        "  def __init__(self):\n",
        "    self.head = None\n",
        "\n",
        "  def insert_at_begining(self, info):\n",
        "    #create a new node with value \n",
        "    newNode = Node(info)\n",
        "    #now made the node we just made as head \n",
        "    if self.head != None:  # here first we check whether head is empty or actually pointing to something\n",
        "      newNode.link = self.head \n",
        "      self.head = newNode \n",
        "    else: \n",
        "      self.head = newNode \n",
        "\n",
        "  def insert_at_end(self,info):\n",
        "    #first we traverse to the last node who's pointing to NULL \n",
        "    newNode = Node(info)\n",
        "    if self.head != None:\n",
        "      current = self.head \n",
        "      while current.link != None:\n",
        "        current = current.link \n",
        "      current.link = newNode  \n",
        "    else: \n",
        "      self.head = newNode \n",
        "\n",
        "\n",
        "  def delete_node(self,ele):\n",
        "    if self.head == None: \n",
        "      print('the linked list is empty')\n",
        "      return \n",
        "    if self.head == ele: \n",
        "      # that is the info we want to delete is the head point of the list then\n",
        "      temp = self.head \n",
        "      self.head = temp.link \n",
        "      temp = None \n",
        "      return \n",
        "    \n",
        "    #if the point we want to delete one of the middle node or the end node. \n",
        "    current = self.head \n",
        "    while current.link != None: \n",
        "      if current.link.info == ele: \n",
        "        temp = current.link \n",
        "        current.link = temp.link \n",
        "        temp = None \n",
        "        return \n",
        "      current = current.link \n",
        "    print ('Element is not found in our list')\n",
        "\n",
        "\n",
        "\n",
        "  \n",
        "  def display(self):\n",
        "    current = self.head\n",
        "    while current != None:\n",
        "      print(current.info)\n",
        "      current = current.link \n",
        "\n",
        "\n",
        "LL = LinkedList() # so this creates an empty node (head) pointing to NULL(nothing)\n",
        "\n",
        "LL.insert_at_begining(10)\n",
        "LL.display()"
      ],
      "metadata": {
        "colab": {
          "base_uri": "https://localhost:8080/"
        },
        "id": "-344tID6I_kI",
        "outputId": "ec509003-970e-4f76-f63a-3db1a184e981"
      },
      "execution_count": null,
      "outputs": [
        {
          "output_type": "stream",
          "name": "stdout",
          "text": [
            "10\n"
          ]
        }
      ]
    },
    {
      "cell_type": "code",
      "source": [
        "LL.insert_at_end(20)\n",
        "LL.display()"
      ],
      "metadata": {
        "colab": {
          "base_uri": "https://localhost:8080/"
        },
        "id": "pBmNks_XNG4c",
        "outputId": "1eef4ffa-b74b-4f82-da12-5605fa40ec92"
      },
      "execution_count": null,
      "outputs": [
        {
          "output_type": "stream",
          "name": "stdout",
          "text": [
            "10\n",
            "20\n"
          ]
        }
      ]
    },
    {
      "cell_type": "code",
      "source": [
        "LL.insert_at_begining(5)\n",
        "LL.display()"
      ],
      "metadata": {
        "colab": {
          "base_uri": "https://localhost:8080/"
        },
        "id": "Kta1Hm8gNRVo",
        "outputId": "bc037cc1-d9db-4460-f67e-da1108d82214"
      },
      "execution_count": null,
      "outputs": [
        {
          "output_type": "stream",
          "name": "stdout",
          "text": [
            "5\n",
            "10\n",
            "20\n"
          ]
        }
      ]
    },
    {
      "cell_type": "code",
      "source": [
        "LL.delete_node(10)\n",
        "LL.display()"
      ],
      "metadata": {
        "colab": {
          "base_uri": "https://localhost:8080/"
        },
        "id": "xV5cFkcvRdn3",
        "outputId": "c8c2b894-f654-47fd-b94d-325149b13325"
      },
      "execution_count": null,
      "outputs": [
        {
          "output_type": "stream",
          "name": "stdout",
          "text": [
            "5\n",
            "20\n"
          ]
        }
      ]
    },
    {
      "cell_type": "markdown",
      "source": [
        "**Time Complexity** : <br/> <br/><br/>\n",
        "**Insertion** <br/>\n",
        " Begginging of the list - O(1) <br/>\n",
        "ending of the list - O(n) <br/><br/><br/>\n",
        "**Deletion** <br/>\n",
        "Begginging of the list - O(1) <br/>\n",
        "Ending or the middle of the list = O(n) <br/>"
      ],
      "metadata": {
        "id": "RYjdKVAoOSHA"
      }
    },
    {
      "cell_type": "markdown",
      "source": [
        ""
      ],
      "metadata": {
        "id": "YEIgUMI8OLlo"
      }
    },
    {
      "cell_type": "code",
      "source": [
        ""
      ],
      "metadata": {
        "id": "vdvHkPF6Nb-R"
      },
      "execution_count": null,
      "outputs": []
    }
  ]
}