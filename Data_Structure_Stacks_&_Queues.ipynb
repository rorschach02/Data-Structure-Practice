{
  "nbformat": 4,
  "nbformat_minor": 0,
  "metadata": {
    "colab": {
      "name": "Data Structure Stacks & Queues.ipynb",
      "provenance": [],
      "authorship_tag": "ABX9TyOisgVOXBiGJyNKgsOQa9mp",
      "include_colab_link": true
    },
    "kernelspec": {
      "name": "python3",
      "display_name": "Python 3"
    },
    "language_info": {
      "name": "python"
    }
  },
  "cells": [
    {
      "cell_type": "markdown",
      "metadata": {
        "id": "view-in-github",
        "colab_type": "text"
      },
      "source": [
        "<a href=\"https://colab.research.google.com/github/rorschach02/Data-Structure-Practice/blob/main/Data_Structure_Stacks_%26_Queues.ipynb\" target=\"_parent\"><img src=\"https://colab.research.google.com/assets/colab-badge.svg\" alt=\"Open In Colab\"/></a>"
      ]
    },
    {
      "cell_type": "markdown",
      "source": [
        "<h1> Stacks <h1/>\n",
        "\n",
        "Stacks can be implemented on arrays and linked list. \n",
        "\n",
        "Functions: <br/>\n",
        "1) push () <br/>\n",
        "2) pop() <br/>\n",
        "3) peek() <br/>\n",
        "\n",
        "\n",
        "- Used to solve parenthesis problems.\n",
        " "
      ],
      "metadata": {
        "id": "efIgwkKEiChX"
      }
    },
    {
      "cell_type": "code",
      "execution_count": 3,
      "metadata": {
        "id": "ojbWvbK-havo"
      },
      "outputs": [],
      "source": [
        "class Stack:\n",
        "  def __init__(self):\n",
        "    self.stack = []\n",
        "\n",
        "  def isEmpty(self):\n",
        "    return self.stack == []\n",
        "  \n",
        "  def push(self , ele):\n",
        "    self.stack.append(ele)\n",
        "  \n",
        "  def pop(self):\n",
        "    if not self.isEmpty():\n",
        "      return self.stack.pop()\n",
        "    else:\n",
        "      return -1\n",
        "  def peek(self):\n",
        "    if not self.isEmpty():\n",
        "      return self.stack[-1]\n",
        "    else:\n",
        "      return -1\n",
        "\n",
        "\n",
        "  "
      ]
    },
    {
      "cell_type": "code",
      "source": [
        "'''\n",
        "s = Stack()\n",
        "while True:\n",
        "  print(\"Push\")\n",
        "  print(\"Pop\")\n",
        "  print(\"Peek\")\n",
        "  do = input(\"What do you want to execute? \")\n",
        "  if do == 'push':\n",
        "    ele = int(input(\"Enter the number to be inserted: \"))\n",
        "    s.push(ele)\n",
        "  elif do == 'pop':\n",
        "    ele = s.pop()\n",
        "    if ele == -1:\n",
        "      print(\"Stack is empty!\")\n",
        "    else:\n",
        "      print(ele)\n",
        "  else:\n",
        "    ele = s.peek()\n",
        "    if ele == -1:\n",
        "      print(\"Stack is empty!\")\n",
        "    else:\n",
        "      print(ele)\n",
        "'''"
      ],
      "metadata": {
        "colab": {
          "base_uri": "https://localhost:8080/",
          "height": 71
        },
        "id": "FpzAyT9AjdR_",
        "outputId": "fd3e246f-a25b-4142-81aa-d8f86bca7b58"
      },
      "execution_count": 5,
      "outputs": [
        {
          "output_type": "execute_result",
          "data": {
            "application/vnd.google.colaboratory.intrinsic+json": {
              "type": "string"
            },
            "text/plain": [
              "'\\ns = Stack()\\nwhile True:\\n  print(\"Push\")\\n  print(\"Pop\")\\n  print(\"Peek\")\\n  do = input(\"What do you want to execute? \")\\n  if do == \\'push\\':\\n    ele = int(input(\"Enter the number to be inserted: \"))\\n    s.push(ele)\\n  elif do == \\'pop\\':\\n    ele = s.pop()\\n    if ele == -1:\\n      print(\"Stack is empty!\")\\n    else:\\n      print(ele)\\n  else:\\n    ele = s.peek()\\n    if ele == -1:\\n      print(\"Stack is empty!\")\\n    else:\\n      print(ele)\\n'"
            ]
          },
          "metadata": {},
          "execution_count": 5
        }
      ]
    },
    {
      "cell_type": "markdown",
      "source": [
        "<h1> Queues : First in First Out </h1>\n",
        "\n",
        "Operations : <br/>\n",
        "1) Enqueue (adding)<br/>\n",
        "2) Dequeue (removing)<br/>\n",
        "\n",
        "Variable: Head , Tail \n",
        "\n",
        "Queue can be implemented on array and linked list"
      ],
      "metadata": {
        "id": "Az6_pqdet3w6"
      }
    },
    {
      "cell_type": "markdown",
      "source": [
        "Implement a **linear queue** in linked list: "
      ],
      "metadata": {
        "id": "6XUkf7Nj3LiV"
      }
    },
    {
      "cell_type": "code",
      "source": [
        "class Node:\n",
        "  def __init__(self, info, next = None):\n",
        "    self.info = info \n",
        "    self.next = next \n",
        "    \n",
        "class Queue: \n",
        "  def __init__(self):\n",
        "    self.front = self.rear = None \n",
        "    ## front = head , rear = tail\n",
        "\n",
        "  def isEmpty(self):\n",
        "    return self.front == None \n",
        "\n",
        "  def Enqueue(self , ele):\n",
        "    temp = Node(ele)\n",
        "    if self.rear == None:\n",
        "      self.rear = self.front = temp \n",
        "      return \n",
        "\n",
        "    self.rear.next = temp \n",
        "    self.rear = temp\n",
        "  \n",
        "  def Dequeue(self):\n",
        "    if self.isEmpty():\n",
        "      print(\"Queue is already empty\")\n",
        "    else:\n",
        "      temp = self.front \n",
        "      self.front = temp.next\n",
        "      if self.front == None: \n",
        "        self.rear = None  \n",
        "    \n",
        "  def display(self):\n",
        "    p = self.front \n",
        "    while p!=None:\n",
        "      print(p.info)\n",
        "      p = p.next \n",
        "\n",
        "\n"
      ],
      "metadata": {
        "id": "wTCctcPpkGPk"
      },
      "execution_count": 4,
      "outputs": []
    },
    {
      "cell_type": "code",
      "source": [
        "q = Queue()\n",
        "\n",
        "q.Enqueue(10)\n",
        "q.Enqueue(20)\n",
        "q.Enqueue(30)\n",
        "q.display()\n",
        "print(\"*\" * 10)\n",
        "q.Dequeue()\n",
        "q.display()\n",
        "print(\"*\" * 10)\n",
        "q.Enqueue(40)\n",
        "q.display()"
      ],
      "metadata": {
        "colab": {
          "base_uri": "https://localhost:8080/"
        },
        "id": "PyZq5vgh5ChV",
        "outputId": "4b20aa07-9c24-4463-eb0f-7eb6a362ee2a"
      },
      "execution_count": 10,
      "outputs": [
        {
          "output_type": "stream",
          "name": "stdout",
          "text": [
            "10\n",
            "20\n",
            "30\n",
            "**********\n",
            "20\n",
            "30\n",
            "**********\n",
            "20\n",
            "30\n",
            "40\n"
          ]
        }
      ]
    },
    {
      "cell_type": "markdown",
      "source": [
        "Implement a **circular queue** in linked list: "
      ],
      "metadata": {
        "id": "fhpW8_FG8QpG"
      }
    },
    {
      "cell_type": "code",
      "source": [
        "class Node:\n",
        "  def __init__(self, info, next = None):\n",
        "    self.info = info \n",
        "    self.next = next \n",
        "    \n",
        "class CircularQueue: \n",
        "  def __init__(self):\n",
        "    self.front = self.rear = None \n",
        "    ## front = head , rear = tail\n",
        "\n",
        "  def isEmpty(self):\n",
        "    return self.front == None \n",
        "\n",
        "  def Enqueue(self , ele):\n",
        "    temp = Node(ele)\n",
        "    if self.front == None:\n",
        "      self.front = temp \n",
        "    else:  \n",
        "      self.rear.next = temp \n",
        "    \n",
        "    self.rear = temp \n",
        "    self.rear.next = self.front \n",
        "\n",
        "  \n",
        "  def Dequeue(self):\n",
        "    if self.front == None:\n",
        "      print(\"Queue is already empty\")\n",
        "      return -1\n",
        "\n",
        "    temp = self.front\n",
        "    if self.front == self.rear: \n",
        "      self.front = self.rear\n",
        "\n",
        "    else: \n",
        "      self.front = temp.next \n",
        "      self.rear.next = self.front\n",
        "    return temp.info\n",
        "    \n",
        "  def display(self):\n",
        "    p = self.front \n",
        "    while p.next != self.front:\n",
        "      print(p.info)\n",
        "      p = p.next \n",
        "    print(p.info)\n"
      ],
      "metadata": {
        "id": "uQLBhBct5Mrb"
      },
      "execution_count": 14,
      "outputs": []
    },
    {
      "cell_type": "code",
      "source": [
        "c = CircularQueue()\n",
        "c.Enqueue(10)\n",
        "c.Enqueue(20)\n",
        "c.Enqueue(30)\n",
        "c.display()\n",
        "\n",
        "print(\"*\" * 30)\n",
        "\n",
        "val = c.Dequeue()\n",
        "if val == -1:\n",
        "  print('Queue is empty')\n",
        "else:\n",
        "  print(\"deleted element is: \" , val)\n",
        "\n",
        "c.display()"
      ],
      "metadata": {
        "colab": {
          "base_uri": "https://localhost:8080/"
        },
        "id": "yytXAdwB_Czr",
        "outputId": "09cce5d7-1a61-4aa0-b413-2a432ecc3815"
      },
      "execution_count": 15,
      "outputs": [
        {
          "output_type": "stream",
          "name": "stdout",
          "text": [
            "10\n",
            "20\n",
            "30\n",
            "******************************\n",
            "deleted element is:  10\n",
            "20\n",
            "30\n"
          ]
        }
      ]
    },
    {
      "cell_type": "code",
      "source": [
        ""
      ],
      "metadata": {
        "id": "AD_WZbxj_MLX"
      },
      "execution_count": null,
      "outputs": []
    }
  ]
}